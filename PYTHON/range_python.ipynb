{
 "cells": [
  {
   "cell_type": "code",
   "execution_count": 18,
   "id": "1e0a4ef6-07b7-433d-b29d-84dc3d59858b",
   "metadata": {},
   "outputs": [
    {
     "name": "stdout",
     "output_type": "stream",
     "text": [
      "0 1 2 3 4 5 6 7 8 9 "
     ]
    }
   ],
   "source": [
    "# Print first 10 numbers\n",
    "\n",
    "# stop = 10\n",
    "for i in range(10):\n",
    "    print(i, end=' ')"
   ]
  },
  {
   "cell_type": "code",
   "execution_count": 19,
   "id": "6e911a30",
   "metadata": {},
   "outputs": [
    {
     "name": "stdout",
     "output_type": "stream",
     "text": [
      "10 11 12 13 14 15 "
     ]
    }
   ],
   "source": [
    "# Numbers from 10 to 15\n",
    "# start = 10\n",
    "# stop = 16\n",
    "for i in range(10, 16):\n",
    "    print(i, end=' ')\n",
    "\n",
    "# Output 10 11 12 13 14 15"
   ]
  },
  {
   "cell_type": "code",
   "execution_count": 20,
   "id": "5b9a5bb2",
   "metadata": {},
   "outputs": [
    {
     "name": "stdout",
     "output_type": "stream",
     "text": [
      "10 15 20 25 30 35 40 45 "
     ]
    }
   ],
   "source": [
    "# Numbers from 10 to 15\n",
    "# start = 10\n",
    "# stop = 50\n",
    "# step = 5\n",
    "for i in range(10, 50, 5):\n",
    "    print(i, end=' ')\n",
    "\n",
    "# Output 10 15 20 25 30 35 40 45"
   ]
  },
  {
   "cell_type": "code",
   "execution_count": 21,
   "id": "cf42cda8",
   "metadata": {},
   "outputs": [
    {
     "name": "stdout",
     "output_type": "stream",
     "text": [
      "9 12 15 18 21 24 27 30 33 36 39 42 45 48 51 54 57 60 63 66 69 72 75 78 81 84 87 90 93 96 99 "
     ]
    }
   ],
   "source": [
    "for i in range(9, 100, 3):\n",
    "    print(i, end=' ')"
   ]
  },
  {
   "cell_type": "code",
   "execution_count": 22,
   "id": "58c87c67",
   "metadata": {},
   "outputs": [
    {
     "name": "stdout",
     "output_type": "stream",
     "text": [
      "Current value of i is: 1\n",
      "Current value of i is: 3\n",
      "Current value of i is: 5\n",
      "Current value of i is: 7\n",
      "Current value of i is: 9\n"
     ]
    }
   ],
   "source": [
    "for i in range(1, 10, 2):\n",
    "    print(\"Current value of i is:\", i)"
   ]
  },
  {
   "cell_type": "code",
   "execution_count": 23,
   "id": "b33caa57",
   "metadata": {},
   "outputs": [
    {
     "name": "stdout",
     "output_type": "stream",
     "text": [
      "Jessa\n",
      "Emma\n",
      "20\n",
      "30\n",
      "75.5\n"
     ]
    }
   ],
   "source": [
    "list1 = ['Jessa', 'Emma', 20, 30, 75.5]\n",
    "# iterate a list using range()\n",
    "for i in range(len(list1)):\n",
    "    print(list1[i])"
   ]
  },
  {
   "cell_type": "code",
   "execution_count": 24,
   "id": "a745c693",
   "metadata": {},
   "outputs": [
    {
     "name": "stdout",
     "output_type": "stream",
     "text": [
      "\n",
      "1 \n",
      "2 2 \n",
      "3 3 3 \n"
     ]
    }
   ],
   "source": [
    "for num in range(4):\n",
    "    for i in range(num):\n",
    "        print(num, end=\" \")\n",
    "    print()"
   ]
  },
  {
   "cell_type": "code",
   "execution_count": 25,
   "id": "1bcef434",
   "metadata": {},
   "outputs": [
    {
     "name": "stdout",
     "output_type": "stream",
     "text": [
      "\n",
      "0 \n",
      "0 1 \n",
      "0 1 2 \n",
      "0 1 2 3 \n",
      "0 1 2 3 4 \n"
     ]
    }
   ],
   "source": [
    "for num in range(6):\n",
    "    for i in range(num):\n",
    "        print(i, end=\" \")\n",
    "    print('')"
   ]
  },
  {
   "cell_type": "code",
   "execution_count": 26,
   "id": "b5585bae",
   "metadata": {},
   "outputs": [
    {
     "name": "stdout",
     "output_type": "stream",
     "text": [
      "55\n"
     ]
    }
   ],
   "source": [
    "# résultat attendu 55\n",
    "end = int(10)\n",
    "sum = 0\n",
    "for i in range(1, end+1):\n",
    "    sum += i\n",
    "\n",
    "print(sum)"
   ]
  },
  {
   "cell_type": "code",
   "execution_count": 27,
   "id": "3fe9c662",
   "metadata": {},
   "outputs": [
    {
     "name": "stdout",
     "output_type": "stream",
     "text": [
      "75\n",
      "150\n",
      "145\n"
     ]
    }
   ],
   "source": [
    "# 75 150 145\n",
    "numbers = [12, 75, 150, 180, 145, 525, 50]\n",
    "for i in range(len(numbers)):\n",
    "    if numbers[i]%5 == 0:\n",
    "        if numbers[i] >=500 :\n",
    "            break\n",
    "        elif numbers[i] <= 150 :\n",
    "             print(numbers[i])\n",
    "           \n",
    "    "
   ]
  },
  {
   "cell_type": "code",
   "execution_count": 28,
   "id": "d51ad770",
   "metadata": {},
   "outputs": [
    {
     "name": "stdout",
     "output_type": "stream",
     "text": [
      "5\n"
     ]
    }
   ],
   "source": [
    "# Write a program to count the total number of digits in a number using a while loop.\n",
    "# For example, the number is 75869, so the output should be 5.\n",
    "\n",
    "num = 75869\n",
    "count = 0\n",
    "while num != 0:\n",
    "    num = num//10\n",
    "    count +=1\n",
    "\n",
    "print(count)"
   ]
  },
  {
   "cell_type": "code",
   "execution_count": 29,
   "id": "9e1f4c07",
   "metadata": {},
   "outputs": [
    {
     "name": "stdout",
     "output_type": "stream",
     "text": [
      "5 4 3 2 1  \n",
      "4 3 2 1  \n",
      "3 2 1  \n",
      "2 1  \n",
      "1  \n"
     ]
    }
   ],
   "source": [
    "'''\n",
    "5 4 3 2 1 \n",
    "4 3 2 1 \n",
    "3 2 1 \n",
    "2 1 \n",
    "1\n",
    "'''\n",
    "n0 = 5\n",
    "for i in range(n0,0,-1):\n",
    "    for num in range(i,0,-1):\n",
    "        print(num, end=' ')\n",
    "    print(' ')\n"
   ]
  },
  {
   "cell_type": "code",
   "execution_count": 30,
   "metadata": {},
   "outputs": [
    {
     "name": "stdout",
     "output_type": "stream",
     "text": [
      "50\n",
      "40\n",
      "30\n",
      "20\n",
      "10\n"
     ]
    }
   ],
   "source": [
    "'''\n",
    "50\n",
    "40\n",
    "30\n",
    "20\n",
    "10\n",
    "'''\n",
    "list1 = [10, 20, 30, 40, 50]\n",
    "\n",
    "for i in range(len(list1),0,-1):\n",
    "    k = int(len(list1)-i)\n",
    "    print(list1[len(list1)-k-1])"
   ]
  },
  {
   "cell_type": "code",
   "execution_count": 31,
   "id": "9b0a5f90",
   "metadata": {},
   "outputs": [
    {
     "data": {
      "text/plain": [
       "5"
      ]
     },
     "execution_count": 31,
     "metadata": {},
     "output_type": "execute_result"
    }
   ],
   "source": [
    "# l'élément le plus grand\n",
    "x = [1,3,5,3]\n",
    "def monmax(elem):\n",
    "    elem.sort(reverse=True)\n",
    "    max = elem[0]\n",
    "    return max\n",
    "monmax(x)\n"
   ]
  },
  {
   "cell_type": "code",
   "execution_count": 50,
   "metadata": {},
   "outputs": [
    {
     "name": "stdout",
     "output_type": "stream",
     "text": [
      "[28, 17, 6, 94, 20, 54, 77, 97, 79, 53]\n",
      "Min - méthode 1 : 97 - méthode 2 : 97\n",
      "Min - méthode 1 : 6 - méthode 2 : 6\n"
     ]
    }
   ],
   "source": [
    "import random\n",
    "\n",
    "sampl = random.sample(range(1,100), 10)\n",
    "#print(type(sampl))\n",
    "\n",
    "def monmin(elem):\n",
    "    \"\"\"\n",
    "    Méthode 1\n",
    "    \"\"\"\n",
    "    elem.sort()\n",
    "    min = str(elem[0])\n",
    "    \"\"\"\n",
    "    Méthode 2\n",
    "    \"\"\"\n",
    "    for n in elem:\n",
    "        if n >= elem[0]:\n",
    "            min2 = elem[0]\n",
    "        else:\n",
    "            min2 = n\n",
    "    sortie = 'Min - méthode 1 : ' + str(min) + ' - méthode 2 : ' + str(min2)           \n",
    "    return sortie\n",
    "\n",
    "def monmax(elem):\n",
    "    \"\"\"\n",
    "    Méthode 1\n",
    "    \"\"\"\n",
    "    elem.sort(reverse=True)\n",
    "    max = str(elem[0])\n",
    "    \"\"\"\n",
    "    Méthode 2\n",
    "    \"\"\"\n",
    "    for n in elem:\n",
    "        if n <= elem[0]:\n",
    "            max2 = elem[0]\n",
    "        else:\n",
    "            max2 = n\n",
    "    sortie = 'Min - méthode 1 : ' + str(max) + ' - méthode 2 : ' + str(max2)           \n",
    "    return sortie\n",
    "\n",
    "print(sampl)\n",
    "print(monmax(sampl))\n",
    "print(monmin(sampl))"
   ]
  }
 ],
 "metadata": {
  "kernelspec": {
   "display_name": "Python 3 (ipykernel)",
   "language": "python",
   "name": "python3"
  },
  "language_info": {
   "codemirror_mode": {
    "name": "ipython",
    "version": 3
   },
   "file_extension": ".py",
   "mimetype": "text/x-python",
   "name": "python",
   "nbconvert_exporter": "python",
   "pygments_lexer": "ipython3",
   "version": "3.11.5"
  }
 },
 "nbformat": 4,
 "nbformat_minor": 5
}
