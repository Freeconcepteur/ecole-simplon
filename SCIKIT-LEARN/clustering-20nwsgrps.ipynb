{
 "cells": [
  {
   "cell_type": "markdown",
   "metadata": {},
   "source": [
    "## Qu'est ce que le clustering ? ##\n",
    "=======================================\n",
    "\n",
    "En data-science, le clustering est une technique de regroupement d'un ensemble de données en sous-ensembles (\"clusters\") de façon à ce que les données d'un même sous-ensemble soient plus similaires entre elles qu'avec celles des autres autres sous-ensembles. C'est une technique non-supervisée car elle ne nécessite pas de données de d'entraienement avec des résultats connus.\n",
    "\n",
    "\n",
    "\n",
    "## Est ce un problème difficile ? pourquoi ? Donnez la complexité en temps et mémoire ##\n",
    "=======================================\n",
    "\n",
    "Oui, de mon point de vue, c'est un problème difficile :\n",
    "- déterminer le nombre de clusters peut être compliqué lorsque l'on ne le connait pas à l'avance. On utilise la méthode du coude ou celle de la silhouette pour le déterminer au mieux mais cela peut être couteux en temps et en calculs.\n",
    "- Optimiser le clustering (faire le tri au mieux) est très complexe => concept de problème NP-difficile\n",
    "- la dimensionalité des données : plus il y a de dimensions, plus les calculs sont importants : mémoire et temps\n",
    "\n",
    "\n",
    "\n",
    "## Quelle sont les métriques utilisés pour le clustering ? ##\n",
    "=======================================\n",
    "\n",
    "Coefficient de Silhouette, Somme des carrés intra-cluster, somme des carrés entre les clusters, indice de Davies-Bouldin, ARI, Pureté, F1-score\n",
    "\n",
    "\n",
    "\n",
    "## 3 métriques avec ground truth (dont MNI) et 3 sans ground truth (dont silhouette) ##\n",
    "=======================================\n",
    "\n",
    "### Avec ground truth (avec connaissance terrain) ###\n",
    "- ARI, Pureté, NMI (entre 0 et 1), AMI\n",
    "### Sans ground truth (sans connaissance terrain) ###\n",
    "- silhouette, WCSS, indice de Davies-Bouldin\n",
    "\n",
    "NMI et AMI sont des métriques avec ground truth (comparaison des vrais clusters aux clusters prédits). Le coéficient silhouette évalue la qualité du clustering uniquement à partir des données, sans information extérieure.\n",
    "\n",
    "\n",
    "=======================================\n"
   ]
  },
  {
   "cell_type": "markdown",
   "metadata": {},
   "source": [
    "# 20_newgroups #"
   ]
  },
  {
   "cell_type": "markdown",
   "metadata": {},
   "source": [
    "## K-means & TfidfVectorizer ##"
   ]
  },
  {
   "cell_type": "code",
   "execution_count": 6,
   "metadata": {},
   "outputs": [],
   "source": [
    "from sklearn.datasets import fetch_20newsgroups\n",
    "from sklearn.decomposition import LatentDirichletAllocation\n",
    "from sklearn.feature_extraction.text import TfidfVectorizer, CountVectorizer\n",
    "from sklearn.cluster import KMeans\n",
    "from sklearn.model_selection import train_test_split\n",
    "from sklearn import metrics\n",
    "import numpy as np\n",
    "from sklearn.metrics import normalized_mutual_info_score, adjusted_mutual_info_score, silhouette_score\n",
    "from sklearn.metrics import classification_report\n",
    "\n",
    "\n",
    "newsgroups = fetch_20newsgroups(subset='all', remove=('headers', 'footers', 'quotes')) # pour ne récupérer qu'une partie du dataset (pour me faciliter la vie et les temps de calculs)\n"
   ]
  },
  {
   "cell_type": "code",
   "execution_count": 11,
   "metadata": {},
   "outputs": [
    {
     "name": "stdout",
     "output_type": "stream",
     "text": [
      "NMI: 0.32\n",
      "AMI: 0.31\n",
      "Silhouette Score: 0.01\n",
      "                          precision    recall  f1-score   support\n",
      "\n",
      "             alt.atheism       0.00      0.00      0.00       236\n",
      "           comp.graphics       0.01      0.02      0.01       287\n",
      " comp.os.ms-windows.misc       0.00      0.00      0.00       290\n",
      "comp.sys.ibm.pc.hardware       0.09      0.05      0.06       285\n",
      "   comp.sys.mac.hardware       0.00      0.00      0.00       312\n",
      "          comp.windows.x       0.03      0.03      0.03       308\n",
      "            misc.forsale       0.03      0.27      0.06       276\n",
      "               rec.autos       0.00      0.00      0.00       304\n",
      "         rec.motorcycles       0.00      0.00      0.00       279\n",
      "      rec.sport.baseball       0.00      0.00      0.00       308\n",
      "        rec.sport.hockey       0.01      0.01      0.01       309\n",
      "               sci.crypt       0.00      0.00      0.00       290\n",
      "         sci.electronics       0.00      0.00      0.00       304\n",
      "                 sci.med       1.00      0.06      0.11       300\n",
      "               sci.space       0.02      0.00      0.01       297\n",
      "  soc.religion.christian       0.00      0.00      0.00       292\n",
      "      talk.politics.guns       0.05      0.05      0.05       270\n",
      "   talk.politics.mideast       0.00      0.00      0.00       272\n",
      "      talk.politics.misc       0.00      0.00      0.00       239\n",
      "      talk.religion.misc       0.13      0.05      0.07       196\n",
      "\n",
      "                accuracy                           0.03      5654\n",
      "               macro avg       0.07      0.03      0.02      5654\n",
      "            weighted avg       0.07      0.03      0.02      5654\n",
      "\n"
     ]
    }
   ],
   "source": [
    "vectorizer = TfidfVectorizer(stop_words='english') # instanciation  de l'algo de vectorisation, en supprimant les mots inutiles\n",
    "vectors = vectorizer.fit_transform(newsgroups.data) # vectorisation des données\n",
    "\n",
    "X_train, X_test, y_train, y_test = train_test_split(vectors, newsgroups.target, test_size=0.3, random_state=42)\n",
    "\n",
    "num_clusters = 20 # il y a 20 newsgroups\n",
    "km = KMeans(n_clusters=num_clusters, n_init=10, random_state=42) # clsutering\n",
    "km.fit(X_train)\n",
    "\n",
    "predicted_clusters = km.predict(X_test)\n",
    "\n",
    "# Calculez les métriques\n",
    "nmi = normalized_mutual_info_score(y_test, predicted_clusters)\n",
    "ami = adjusted_mutual_info_score(y_test, predicted_clusters)\n",
    "silhouette = silhouette_score(X_test, predicted_clusters)\n",
    "\n",
    "# Affichez les résultats\n",
    "print(f\"NMI: {nmi:.2f}\")\n",
    "print(f\"AMI: {ami:.2f}\")\n",
    "print(f\"Silhouette Score: {silhouette:.2f}\")\n",
    "\n",
    "report = classification_report(y_test, predicted_clusters, target_names=newsgroups.target_names, zero_division=0)\n",
    "print(report)"
   ]
  },
  {
   "cell_type": "markdown",
   "metadata": {},
   "source": [
    "## K-means & CountVectorizer ##"
   ]
  },
  {
   "cell_type": "code",
   "execution_count": 8,
   "metadata": {},
   "outputs": [
    {
     "name": "stdout",
     "output_type": "stream",
     "text": [
      "NMI: 0.01\n",
      "AMI: 0.00\n",
      "Silhouette Score: 0.91\n",
      "                          precision    recall  f1-score   support\n",
      "\n",
      "             alt.atheism       0.00      0.00      0.00       236\n",
      "           comp.graphics       0.00      0.00      0.00       287\n",
      " comp.os.ms-windows.misc       1.00      0.00      0.01       290\n",
      "comp.sys.ibm.pc.hardware       0.00      0.00      0.00       285\n",
      "   comp.sys.mac.hardware       0.00      0.00      0.00       312\n",
      "          comp.windows.x       0.00      0.00      0.00       308\n",
      "            misc.forsale       0.05      1.00      0.09       276\n",
      "               rec.autos       0.00      0.00      0.00       304\n",
      "         rec.motorcycles       0.00      0.00      0.00       279\n",
      "      rec.sport.baseball       0.00      0.00      0.00       308\n",
      "        rec.sport.hockey       0.00      0.00      0.00       309\n",
      "               sci.crypt       0.00      0.00      0.00       290\n",
      "         sci.electronics       0.00      0.00      0.00       304\n",
      "                 sci.med       0.00      0.00      0.00       300\n",
      "               sci.space       0.00      0.00      0.00       297\n",
      "  soc.religion.christian       0.00      0.00      0.00       292\n",
      "      talk.politics.guns       0.04      0.00      0.01       270\n",
      "   talk.politics.mideast       0.00      0.00      0.00       272\n",
      "      talk.politics.misc       0.00      0.00      0.00       239\n",
      "      talk.religion.misc       0.00      0.00      0.00       196\n",
      "\n",
      "                accuracy                           0.05      5654\n",
      "               macro avg       0.05      0.05      0.01      5654\n",
      "            weighted avg       0.06      0.05      0.01      5654\n",
      "\n"
     ]
    }
   ],
   "source": [
    "# 2ème façon\n",
    "vectorizer = CountVectorizer(stop_words='english')\n",
    "vectors = vectorizer.fit_transform(newsgroups.data)\n",
    "\n",
    "\n",
    "X_train, X_test, y_train, y_test = train_test_split(vectors, newsgroups.target, test_size=0.3, random_state=42)\n",
    "\n",
    "\n",
    "num_clusters = 20\n",
    "\n",
    "\n",
    "km = KMeans(n_clusters=num_clusters, n_init=10, random_state=42)\n",
    "km.fit(X_train)\n",
    "\n",
    "\n",
    "predicted_clusters = km.predict(X_test)\n",
    "\n",
    "\n",
    "nmi = normalized_mutual_info_score(y_test, predicted_clusters)\n",
    "ami = adjusted_mutual_info_score(y_test, predicted_clusters)\n",
    "silhouette = silhouette_score(X_test, predicted_clusters)\n",
    "\n",
    "print(f\"NMI: {nmi:.2f}\")\n",
    "print(f\"AMI: {ami:.2f}\")\n",
    "print(f\"Silhouette Score: {silhouette:.2f}\")\n",
    "\n",
    "report = classification_report(y_test, predicted_clusters, target_names=newsgroups.target_names, zero_division=0)\n",
    "print(report)\n"
   ]
  },
  {
   "cell_type": "markdown",
   "metadata": {},
   "source": [
    "## Constatations ##\n",
    "\n",
    "Les silhouette Score sont complètement opposés. NMI et AMI diffèrent d'une vectorisation à une autre mais ne sont jamais concluants."
   ]
  },
  {
   "cell_type": "markdown",
   "metadata": {},
   "source": [
    "## LDA & TfidfVectorizer ##"
   ]
  },
  {
   "cell_type": "code",
   "execution_count": 9,
   "metadata": {},
   "outputs": [
    {
     "name": "stdout",
     "output_type": "stream",
     "text": [
      "NMI: 0.02\n",
      "AMI: 0.00\n",
      "Silhouette Score: -0.24\n"
     ]
    }
   ],
   "source": [
    "vectorizer = TfidfVectorizer(stop_words='english')\n",
    "vectors = vectorizer.fit_transform(newsgroups.data)\n",
    "\n",
    "\n",
    "X_train, X_test, y_train, y_test = train_test_split(vectors, newsgroups.target, test_size=0.3, random_state=42)\n",
    "\n",
    "\n",
    "num_topics = 20\n",
    "\n",
    "\n",
    "lda = LatentDirichletAllocation(n_components=num_topics, random_state=42)\n",
    "lda.fit(X_train)\n",
    "\n",
    "\n",
    "document_topics = lda.transform(X_test)\n",
    "predicted_clusters = document_topics.argmax(axis=1)\n",
    "\n",
    "\n",
    "nmi = normalized_mutual_info_score(y_test, predicted_clusters)\n",
    "ami = adjusted_mutual_info_score(y_test, predicted_clusters)\n",
    "silhouette = silhouette_score(X_test, predicted_clusters)\n",
    "\n",
    "print(f\"NMI: {nmi:.2f}\")\n",
    "print(f\"AMI: {ami:.2f}\")\n",
    "print(f\"Silhouette Score: {silhouette:.2f}\")"
   ]
  },
  {
   "cell_type": "markdown",
   "metadata": {},
   "source": [
    "## LDA & CountVectorizer ##"
   ]
  },
  {
   "cell_type": "code",
   "execution_count": 10,
   "metadata": {},
   "outputs": [
    {
     "name": "stdout",
     "output_type": "stream",
     "text": [
      "NMI: 0.32\n",
      "AMI: 0.31\n",
      "Silhouette Score: -0.27\n",
      "                          precision    recall  f1-score   support\n",
      "\n",
      "             alt.atheism       0.00      0.02      0.01       236\n",
      "           comp.graphics       0.00      0.00      0.00       287\n",
      " comp.os.ms-windows.misc       1.00      0.02      0.03       290\n",
      "comp.sys.ibm.pc.hardware       0.00      0.00      0.00       285\n",
      "   comp.sys.mac.hardware       0.01      0.03      0.01       312\n",
      "          comp.windows.x       0.00      0.00      0.00       308\n",
      "            misc.forsale       0.03      0.00      0.01       276\n",
      "               rec.autos       0.23      0.62      0.33       304\n",
      "         rec.motorcycles       0.00      0.00      0.00       279\n",
      "      rec.sport.baseball       0.00      0.00      0.00       308\n",
      "        rec.sport.hockey       0.12      0.01      0.01       309\n",
      "               sci.crypt       0.02      0.09      0.04       290\n",
      "         sci.electronics       0.08      0.01      0.01       304\n",
      "                 sci.med       0.19      0.02      0.04       300\n",
      "               sci.space       0.00      0.00      0.00       297\n",
      "  soc.religion.christian       0.01      0.00      0.00       292\n",
      "      talk.politics.guns       0.01      0.01      0.01       270\n",
      "   talk.politics.mideast       0.00      0.00      0.00       272\n",
      "      talk.politics.misc       0.00      0.00      0.00       239\n",
      "      talk.religion.misc       0.04      0.01      0.01       196\n",
      "\n",
      "                accuracy                           0.04      5654\n",
      "               macro avg       0.09      0.04      0.03      5654\n",
      "            weighted avg       0.09      0.04      0.03      5654\n",
      "\n"
     ]
    }
   ],
   "source": [
    "from sklearn.metrics import classification_report\n",
    "\n",
    "vectorizer = CountVectorizer(stop_words='english')\n",
    "vectors = vectorizer.fit_transform(newsgroups.data)\n",
    "\n",
    "\n",
    "X_train, X_test, y_train, y_test = train_test_split(vectors, newsgroups.target, test_size=0.3, random_state=42)\n",
    "\n",
    "\n",
    "num_topics = 20\n",
    "\n",
    "\n",
    "lda = LatentDirichletAllocation(n_components=num_topics, random_state=42)\n",
    "lda.fit(X_train)\n",
    "\n",
    "\n",
    "document_topics = lda.transform(X_test)\n",
    "predicted_clusters = document_topics.argmax(axis=1)\n",
    "\n",
    "\n",
    "nmi = normalized_mutual_info_score(y_test, predicted_clusters)\n",
    "ami = adjusted_mutual_info_score(y_test, predicted_clusters)\n",
    "silhouette = silhouette_score(X_test, predicted_clusters)\n",
    "\n",
    "print(f\"NMI: {nmi:.2f}\")\n",
    "print(f\"AMI: {ami:.2f}\")\n",
    "print(f\"Silhouette Score: {silhouette:.2f}\")\n",
    "\n",
    "report = classification_report(y_test, predicted_clusters, target_names=newsgroups.target_names, zero_division=0)\n",
    "print(report)\n"
   ]
  },
  {
   "cell_type": "markdown",
   "metadata": {},
   "source": [
    "## Constatations ##\n",
    "\n",
    "Aucun score n'est concluant. Je suis paumé ;-|"
   ]
  },
  {
   "cell_type": "code",
   "execution_count": 15,
   "metadata": {},
   "outputs": [
    {
     "name": "stdout",
     "output_type": "stream",
     "text": [
      "Group: alt.atheism, Number of messages: 799\n",
      "Group: comp.graphics, Number of messages: 973\n",
      "Group: comp.os.ms-windows.misc, Number of messages: 985\n",
      "Group: comp.sys.ibm.pc.hardware, Number of messages: 982\n",
      "Group: comp.sys.mac.hardware, Number of messages: 963\n",
      "Group: comp.windows.x, Number of messages: 988\n",
      "Group: misc.forsale, Number of messages: 975\n",
      "Group: rec.autos, Number of messages: 990\n",
      "Group: rec.motorcycles, Number of messages: 996\n",
      "Group: rec.sport.baseball, Number of messages: 994\n",
      "Group: rec.sport.hockey, Number of messages: 999\n",
      "Group: sci.crypt, Number of messages: 991\n",
      "Group: sci.electronics, Number of messages: 984\n",
      "Group: sci.med, Number of messages: 990\n",
      "Group: sci.space, Number of messages: 987\n",
      "Group: soc.religion.christian, Number of messages: 997\n",
      "Group: talk.politics.guns, Number of messages: 910\n",
      "Group: talk.politics.mideast, Number of messages: 940\n",
      "Group: talk.politics.misc, Number of messages: 775\n",
      "Group: talk.religion.misc, Number of messages: 628\n"
     ]
    }
   ],
   "source": [
    "from sklearn.datasets import fetch_20newsgroups\n",
    "import numpy as np\n",
    "\n",
    "newsgroups = fetch_20newsgroups(subset='all')  \n",
    "\n",
    "\n",
    "labels = newsgroups.target\n",
    "group_names = newsgroups.target_names\n",
    "unique_labels, counts = np.unique(labels, return_counts=True)\n",
    "\n",
    "\n",
    "for label, count in zip(unique_labels, counts):\n",
    "    print(f\"Group: {group_names[label]}, Number of messages: {count}\")"
   ]
  }
 ],
 "metadata": {
  "kernelspec": {
   "display_name": "Python 3",
   "language": "python",
   "name": "python3"
  },
  "language_info": {
   "codemirror_mode": {
    "name": "ipython",
    "version": 3
   },
   "file_extension": ".py",
   "mimetype": "text/x-python",
   "name": "python",
   "nbconvert_exporter": "python",
   "pygments_lexer": "ipython3",
   "version": "3.11.5"
  }
 },
 "nbformat": 4,
 "nbformat_minor": 2
}
