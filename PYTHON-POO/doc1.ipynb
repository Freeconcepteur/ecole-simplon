{
 "cells": [
  {
   "cell_type": "code",
   "execution_count": 5,
   "metadata": {},
   "outputs": [
    {
     "name": "stdout",
     "output_type": "stream",
     "text": [
      "mon attribut a : toto\n",
      "mon attribut a : tata\n"
     ]
    }
   ],
   "source": [
    "class MaClass():\n",
    "    def __init__(self):\n",
    "        self.a = 'toto'\n",
    "    def __str__(self) :\n",
    "        return \"mon attribut a : \" + self.a\n",
    "\n",
    "A = MaClass()\n",
    "print(A)\n",
    "\n",
    "A.a = 'tata'\n",
    "print(A)"
   ]
  },
  {
   "cell_type": "code",
   "execution_count": 33,
   "metadata": {},
   "outputs": [
    {
     "name": "stdout",
     "output_type": "stream",
     "text": [
      "nom : Véhicule général. passager : 1. moteur :1. roues : 1. réservoir : 600\n",
      "nom : Voiture. passager : 2. moteur :1. roues : 2. réservoir : 80. Equipement : ceinture de sécurité\n",
      "Autonomie :1000.0Kms\n"
     ]
    }
   ],
   "source": [
    "class Vehicule() :\n",
    "    def __init__(self,libelle,passager,moteur,roues,reservoir):\n",
    "        self.libelle = libelle\n",
    "        self.passager = passager\n",
    "        self.moteur = moteur\n",
    "        self.roues = roues\n",
    "        self.reservoir = reservoir\n",
    "    def __str__(self):\n",
    "        return 'nom : ' + self.libelle + '. passager : ' + str(self.passager) + '. moteur :' + str(self.moteur) + '. roues : ' + str(self.roues) + '. réservoir : ' + str(self.reservoir)\n",
    "\n",
    "A = Vehicule('Véhicule général',1,1,1,600)\n",
    "print(A)\n",
    "\n",
    "class equipement(Vehicule) :\n",
    "    def __init__(self,libelle,passager,moteur,roues,reservoir,equipement) :\n",
    "        super().__init__(libelle,passager,moteur,roues,reservoir)\n",
    "        self.equipement = equipement\n",
    "    \n",
    "    def Autonomie(self) :\n",
    "        return 'Autonomie :' + str(self.reservoir/8*100) + 'Kms'\n",
    "\n",
    "    def __str__(self) :\n",
    "        return 'nom : ' + self.libelle + '. passager : ' + str(self.passager) + '. moteur :' + str(self.moteur) + '. roues : ' + str(self.roues) + '. réservoir : ' + str(self.reservoir) + '. Equipement : ' + self.equipement\n",
    "    \n",
    "B = equipement('Voiture',2,1,2,80,'ceinture de sécurité')\n",
    "\n",
    "print(B)\n",
    "print(B.Autonomie())"
   ]
  },
  {
   "cell_type": "code",
   "execution_count": 42,
   "metadata": {},
   "outputs": [
    {
     "name": "stdout",
     "output_type": "stream",
     "text": [
      "Début d'appel à <function do_something at 0x105c71da0>\n",
      "doing something\n",
      "Fin d'appel à <function do_something at 0x105c71da0>\n"
     ]
    }
   ],
   "source": [
    "def trace(func):\n",
    "    def decorateur():\n",
    "        print(\"Début d'appel à\", func)\n",
    "        func()\n",
    "        print(\"Fin d'appel à\", func)\n",
    "    return decorateur\n",
    "\n",
    "def do_something():\n",
    "    print(\"doing something\")\n",
    "\n",
    "do_something = trace(do_something)\n",
    "\n",
    "do_something()\n",
    "# Affiche\n",
    "# Début d'appel à <function do_something at 0x7f210f642730>\n",
    "# doing something\n",
    "# Fin d'appel à <function do_something at 0x7f210f642730>"
   ]
  },
  {
   "cell_type": "code",
   "execution_count": 41,
   "metadata": {},
   "outputs": [
    {
     "name": "stdout",
     "output_type": "stream",
     "text": [
      "Début d'appel à <function do_something at 0x105c71a80>\n",
      "doing something\n",
      "Fin d'appel à <function do_something at 0x105c71a80>\n"
     ]
    }
   ],
   "source": [
    "@trace\n",
    "def do_something():\n",
    "    print(\"doing something\")\n",
    "\n",
    "do_something()\n",
    "# Affiche\n",
    "# Début d'appel à <function do_something at 0x7f210f642730>\n",
    "# doing something\n",
    "# Fin d'appel à <function do_something at 0x7f210f642730>"
   ]
  }
 ],
 "metadata": {
  "kernelspec": {
   "display_name": "Python 3",
   "language": "python",
   "name": "python3"
  },
  "language_info": {
   "codemirror_mode": {
    "name": "ipython",
    "version": 3
   },
   "file_extension": ".py",
   "mimetype": "text/x-python",
   "name": "python",
   "nbconvert_exporter": "python",
   "pygments_lexer": "ipython3",
   "version": "3.11.5"
  }
 },
 "nbformat": 4,
 "nbformat_minor": 2
}
