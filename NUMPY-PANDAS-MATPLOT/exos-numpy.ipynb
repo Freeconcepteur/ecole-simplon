{
 "cells": [
  {
   "cell_type": "markdown",
   "id": "ca27c2fb-a4a1-4ef2-91b6-56580b3c699e",
   "metadata": {},
   "source": [
    "## Q1"
   ]
  },
  {
   "cell_type": "code",
   "execution_count": 28,
   "id": "7b2d2fb7-3c00-4231-81a1-3a6d4907ec25",
   "metadata": {},
   "outputs": [
    {
     "name": "stdout",
     "output_type": "stream",
     "text": [
      "[ 1  2  3  4  5  6  7  8  9 10]\n"
     ]
    }
   ],
   "source": [
    "import numpy as np\n",
    "nbr = 10\n",
    "a = np.arange(1,nbr+1)\n",
    "print(a)"
   ]
  },
  {
   "cell_type": "markdown",
   "id": "01c32e33-6c94-4476-a058-cde7b8ddcfea",
   "metadata": {},
   "source": [
    "## Q2"
   ]
  },
  {
   "cell_type": "code",
   "execution_count": 29,
   "id": "0abf0ac9-3c06-4d0d-9dfb-823f350e22bc",
   "metadata": {},
   "outputs": [
    {
     "name": "stdout",
     "output_type": "stream",
     "text": [
      "[0.55020518 0.78803736 0.76369819 0.03335933 0.4663852  0.59573573\n",
      " 0.24950373 0.68852316 0.79340535 0.44298131]\n"
     ]
    }
   ],
   "source": [
    "import numpy as np\n",
    "sampl = np.random.uniform(low=0, high=1, size=(10,))\n",
    "print(sampl)"
   ]
  },
  {
   "cell_type": "markdown",
   "id": "6e41cc2a-cd63-46a8-b67a-65e9be01e26b",
   "metadata": {},
   "source": [
    "## Q3"
   ]
  },
  {
   "cell_type": "code",
   "execution_count": 30,
   "id": "262f47fa-4bda-4924-b5d1-8226ce175eef",
   "metadata": {},
   "outputs": [
    {
     "name": "stdout",
     "output_type": "stream",
     "text": [
      "20\n"
     ]
    }
   ],
   "source": [
    "import numpy as np\n",
    "a = np.array([4,7,9])\n",
    "sum_a = np.sum(a)\n",
    "print(sum_a)"
   ]
  },
  {
   "cell_type": "markdown",
   "id": "488b931c-d889-4be3-82f3-f69cb2d43f75",
   "metadata": {},
   "source": [
    "## Q4"
   ]
  },
  {
   "cell_type": "code",
   "execution_count": 31,
   "id": "5f2b2efe-5db8-42d3-9114-f5067ff9fee7",
   "metadata": {},
   "outputs": [
    {
     "name": "stdout",
     "output_type": "stream",
     "text": [
      "450\n"
     ]
    }
   ],
   "source": [
    "import numpy as np\n",
    "a = np.array([4,7,9])\n",
    "b = np.array([10,20,30])\n",
    "prdt_scalaire = np.dot(a,b)\n",
    "print(prdt_scalaire)"
   ]
  },
  {
   "cell_type": "markdown",
   "id": "719cbb19-98be-469d-94b8-0a220ce67586",
   "metadata": {},
   "source": [
    "## Q5"
   ]
  },
  {
   "cell_type": "code",
   "execution_count": 32,
   "id": "86187075-6ca4-4c62-99a6-0ea277032aee",
   "metadata": {},
   "outputs": [
    {
     "name": "stdout",
     "output_type": "stream",
     "text": [
      "[3 4 7 9]\n"
     ]
    }
   ],
   "source": [
    "import numpy as np\n",
    "a = np.array([4,7,9,9,3,4])\n",
    "array_unic = np.unique(a)\n",
    "print(array_unic)"
   ]
  },
  {
   "cell_type": "markdown",
   "id": "7fcd50b1-c933-4712-b36e-1667d326f542",
   "metadata": {},
   "source": [
    "## Q6"
   ]
  },
  {
   "cell_type": "code",
   "execution_count": 33,
   "id": "ebc856b4-f617-4a79-b5e6-8a80e7e2c243",
   "metadata": {},
   "outputs": [
    {
     "name": "stdout",
     "output_type": "stream",
     "text": [
      "[1 2 3 5 7 9]\n"
     ]
    }
   ],
   "source": [
    "import numpy as np\n",
    "a = np.array([9,5,2,3,7,1])\n",
    "array_sorted = np.sort(a)\n",
    "print(array_sorted)"
   ]
  },
  {
   "cell_type": "markdown",
   "id": "9f486f23-285c-4fe8-925b-0accefd18155",
   "metadata": {},
   "source": [
    "## Q7"
   ]
  },
  {
   "cell_type": "code",
   "execution_count": 34,
   "id": "cbd4646f-bfb0-45fa-a888-ee07dbafa585",
   "metadata": {},
   "outputs": [
    {
     "name": "stdout",
     "output_type": "stream",
     "text": [
      "moyenne:4.5\n",
      "médiane:4.0\n",
      "écart-type:2.8136571693556887\n"
     ]
    }
   ],
   "source": [
    "import numpy as np\n",
    "a = np.array([9,5,2,3,7,1])\n",
    "a_moyenne = np.mean(a)\n",
    "print('moyenne:' + str(a_moyenne))\n",
    "a_median = np.median(a)\n",
    "print('médiane:' + str(a_median))\n",
    "a_ecarttype = np.std(a)\n",
    "print('écart-type:' + str(a_ecarttype))"
   ]
  },
  {
   "cell_type": "markdown",
   "id": "32c1e8fa-a33f-4609-8bcb-d721fc579ccd",
   "metadata": {},
   "source": [
    "## Q8"
   ]
  },
  {
   "cell_type": "code",
   "execution_count": 35,
   "id": "b16cdfdd-45a1-424a-a311-b7a4cde23ee0",
   "metadata": {},
   "outputs": [
    {
     "name": "stdout",
     "output_type": "stream",
     "text": [
      "[ True  True False False  True False]\n",
      "[1 1 0 0 1 0]\n"
     ]
    }
   ],
   "source": [
    "import numpy as np\n",
    "a = np.array([9,5,2,3,7,1])\n",
    "b = a >= 5\n",
    "print(b)\n",
    "c = b.astype(int) \n",
    "print(c)"
   ]
  },
  {
   "cell_type": "markdown",
   "id": "d4a37c1f-3e96-4a96-9851-5bc140b31822",
   "metadata": {},
   "source": [
    "## Q9"
   ]
  },
  {
   "cell_type": "code",
   "execution_count": 36,
   "id": "1a0b0b2d-6286-459f-85d3-9585951f2cb2",
   "metadata": {},
   "outputs": [
    {
     "name": "stdout",
     "output_type": "stream",
     "text": [
      "[[0.6969335  0.96622425 0.25615524]\n",
      " [0.46587908 0.24025155 0.76148357]\n",
      " [0.51606966 0.33387715 0.75594849]]\n"
     ]
    }
   ],
   "source": [
    "import numpy as np\n",
    "sampl = np.random.rand(3,3)\n",
    "print(sampl)"
   ]
  }
 ],
 "metadata": {
  "kernelspec": {
   "display_name": "Python 3 (ipykernel)",
   "language": "python",
   "name": "python3"
  },
  "language_info": {
   "codemirror_mode": {
    "name": "ipython",
    "version": 3
   },
   "file_extension": ".py",
   "mimetype": "text/x-python",
   "name": "python",
   "nbconvert_exporter": "python",
   "pygments_lexer": "ipython3",
   "version": "3.11.5"
  }
 },
 "nbformat": 4,
 "nbformat_minor": 5
}
