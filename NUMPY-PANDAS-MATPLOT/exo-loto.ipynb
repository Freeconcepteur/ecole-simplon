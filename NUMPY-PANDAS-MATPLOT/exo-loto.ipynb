{
 "cells": [
  {
   "cell_type": "markdown",
   "metadata": {},
   "source": [
    "Numpy random\n",
    "Faire un générateur de nombre aléatoire pour le loto et l'euromillion. Attention c’est un tirage aléatoire sans remise (c.a.d que la boule trouvée n’est pas remise en jeu) et tous les chiffres ont la même probabilité d’apparaître."
   ]
  },
  {
   "cell_type": "code",
   "execution_count": 1,
   "metadata": {},
   "outputs": [
    {
     "name": "stdout",
     "output_type": "stream",
     "text": [
      "[21 49 15 42 26]\n"
     ]
    }
   ],
   "source": [
    "import numpy as np\n",
    "\n",
    "nbr_boules_totales = 49 # 1 à 49\n",
    "nbr_boules_tirees = 5\n",
    "\n",
    "tirages = 0\n",
    "nombre_de_num = np.arange(1,nbr_boules_totales+1,1)\n",
    "\n",
    "grille_finale = []\n",
    "\n",
    "grille_finale = np.random.choice(nombre_de_num,nbr_boules_tirees,replace=False)\n",
    "'''\n",
    "while tirages < nbr_boules_tirees:\n",
    "    boule = np.random.choice(nombre_de_num, nbr_boules_tirees replace=false)\n",
    "    grille_finale.append(boule)\n",
    "    tirages +=1\n",
    "'''\n",
    "\n",
    "print(grille_finale)"
   ]
  },
  {
   "cell_type": "markdown",
   "metadata": {},
   "source": [
    "Reprenez l’exercice 16 et faites en sorte que le nombre à trouver soit aléatoire et compris entre 1 et 1000: \n",
    "“Écrivez un programme qui demande à l'utilisateur de deviner un nombre secret (par exemple 42). Le programme indique à l'utilisateur si le nombre à deviner est plus grand ou plus petit que sa proposition et continue de demander un nombre tant que l'utilisateur ne trouve pas le nombre secret. Une fois que l'utilisateur trouve le nombre secret, affichez un message de félicitations.”"
   ]
  },
  {
   "cell_type": "code",
   "execution_count": 9,
   "metadata": {},
   "outputs": [
    {
     "name": "stdout",
     "output_type": "stream",
     "text": [
      "[4]\n",
      "trop grand\n",
      "trop petit\n",
      "bravo\n"
     ]
    }
   ],
   "source": [
    "import numpy as np\n",
    "\n",
    "def trouve_nbr(elem, secret):\n",
    "    \"\"\"\n",
    "    Vérifie la supposition de l'utilisateur par rapport au nombre secret et donne des indices.\n",
    "    \n",
    "    Arguments:\n",
    "    - elem (int) : La supposition actuelle de l'utilisateur.\n",
    "    - secret (int) : Le nombre secret que l'utilisateur doit deviner.\n",
    "    \n",
    "    Returns:\n",
    "    None. Si la supposition est incorrecte, l'utilisateur est invité à entrer une nouvelle supposition.\n",
    "    Si la supposition est correcte, un message de félicitations est affiché.\n",
    "    \"\"\"\n",
    "    \n",
    "    if elem > secret:\n",
    "        print('trop grand')\n",
    "        nombre_user = int(input('trouve le nombre'))\n",
    "        trouve_nbr(nombre_user, secret)\n",
    "    elif elem < secret:\n",
    "        print('trop petit')\n",
    "        nombre_user = int(input('trouve le nombre'))\n",
    "        trouve_nbr(nombre_user, secret)\n",
    "    else: \n",
    "        print('bravo')\n",
    "\n",
    "import numpy as np\n",
    "\n",
    "def tirage_nbr(elem):\n",
    "    \"\"\"\n",
    "    Effectue un tirage au sort d'un nombre entre 0 et elem (inclus) et invite l'utilisateur à deviner ce nombre.\n",
    "    \n",
    "    Arguments:\n",
    "    - elem (int) : La limite supérieure pour le tirage au sort du nombre.\n",
    "    \n",
    "    Returns:\n",
    "    None. L'utilisateur est invité à entrer une supposition jusqu'à ce qu'il trouve le bon nombre.\n",
    "    \"\"\"\n",
    "    \n",
    "    numro = np.random.choice(elem+1, 1)\n",
    "    print(numro)  # Pour des raisons de débogage, généralement on ne le montre pas à l'utilisateur\n",
    "    nombre_user = input('trouve le nombre')\n",
    "    trouve_nbr(int(nombre_user), numro)\n",
    "\n",
    "def trouve_nbr(elem, secret):\n",
    "    \"\"\"\n",
    "    Vérifie la supposition de l'utilisateur par rapport au nombre secret et donne des indices.\n",
    "    \n",
    "    Arguments:\n",
    "    - elem (int) : La supposition actuelle de l'utilisateur.\n",
    "    - secret (int) : Le nombre secret que l'utilisateur doit deviner.\n",
    "    \n",
    "    Returns:\n",
    "    None. Si la supposition est incorrecte, l'utilisateur est invité à entrer une nouvelle supposition.\n",
    "    Si la supposition est correcte, un message de félicitations est affiché.\n",
    "    \"\"\"\n",
    "    \n",
    "    if elem > secret:\n",
    "        print('trop grand')\n",
    "        nombre_user = int(input('trouve le nombre'))\n",
    "        trouve_nbr(nombre_user, secret)\n",
    "    elif elem < secret:\n",
    "        print('trop petit')\n",
    "        nombre_user = int(input('trouve le nombre'))\n",
    "        trouve_nbr(nombre_user, secret)\n",
    "    else: \n",
    "        print('bravo')\n",
    "\n",
    "tirage_nbr(1000)\n",
    "\n",
    "\n",
    "tirage_nbr(1000)\n"
   ]
  },
  {
   "cell_type": "code",
   "execution_count": 9,
   "metadata": {},
   "outputs": [
    {
     "name": "stdout",
     "output_type": "stream",
     "text": [
      "Le nombre secret est inférieur à  12\n"
     ]
    }
   ],
   "source": [
    "import numpy as np\n",
    "\n",
    "Tab = np.arange(1,1001)\n",
    "Nombre_Gen = np.random.choice(Tab)\n",
    "\n",
    "\n",
    "Ret=0\n",
    "while ((Ret)!=Nombre_Gen) :\n",
    "    Ret = int(input(\"Devinez un nombre entre 1 et 1000 :\"))\n",
    "    if (Ret) < Nombre_Gen :\n",
    "        print(\"Le nombre secret est supérieur à \",Ret)\n",
    "    elif (Ret)> Nombre_Gen :\n",
    "        print(\"Le nombre secret est inférieur à \",Ret)\n",
    "    else :\n",
    "        print(\"Bien joué !!!\") \n",
    "        break"
   ]
  },
  {
   "cell_type": "code",
   "execution_count": 6,
   "metadata": {},
   "outputs": [
    {
     "name": "stdout",
     "output_type": "stream",
     "text": [
      "796\n",
      "Le nombre secret est supérieur à  300\n",
      "Le nombre secret est supérieur à  400\n",
      "Le nombre secret est inférieur à  900\n",
      "Bien joué !!!\n"
     ]
    }
   ],
   "source": [
    "import numpy as np\n",
    "\n",
    "Tab = np.arange(1,1001)\n",
    "Nombre_Gen = np.random.choice(Tab)\n",
    "print(Nombre_Gen)\n",
    "\n",
    "Ret=0\n",
    "while ((Ret)!= Nombre_Gen) :\n",
    "    Ret = int(input(\"Devinez un nombre entre 1 et 1000 :\"))\n",
    "    if (Ret) < Nombre_Gen :\n",
    "        print(\"Le nombre secret est supérieur à \",Ret)\n",
    "    elif (Ret)> Nombre_Gen :\n",
    "        print(\"Le nombre secret est inférieur à \",Ret)\n",
    "    else :\n",
    "        print(\"Bien joué !!!\") \n",
    "        break"
   ]
  },
  {
   "cell_type": "code",
   "execution_count": 8,
   "metadata": {},
   "outputs": [
    {
     "name": "stdout",
     "output_type": "stream",
     "text": [
      "663\n",
      "Le nombre secret est supérieur à  450\n",
      "Bien joué !!!\n"
     ]
    }
   ],
   "source": [
    "import numpy as np\n",
    "\n",
    "Tab = np.arange(1,1001)\n",
    "Nombre_Gen = np.random.choice(Tab)\n",
    "print(Nombre_Gen)\n",
    "\n",
    "\n",
    "Ret=0\n",
    "while ((Ret)!=Nombre_Gen) :\n",
    "    Ret = int(input(\"Devinez un nombre entre 1 et 1000 :\"))\n",
    "    if (Ret) < Nombre_Gen :\n",
    "        print(\"Le nombre secret est supérieur à \",Ret)\n",
    "    elif (Ret)> Nombre_Gen :\n",
    "        print(\"Le nombre secret est inférieur à \",Ret)\n",
    "    else :\n",
    "        print(\"Bien joué !!!\") \n",
    "        break"
   ]
  }
 ],
 "metadata": {
  "kernelspec": {
   "display_name": "Python 3",
   "language": "python",
   "name": "python3"
  },
  "language_info": {
   "codemirror_mode": {
    "name": "ipython",
    "version": 3
   },
   "file_extension": ".py",
   "mimetype": "text/x-python",
   "name": "python",
   "nbconvert_exporter": "python",
   "pygments_lexer": "ipython3",
   "version": "3.11.5"
  },
  "orig_nbformat": 4
 },
 "nbformat": 4,
 "nbformat_minor": 2
}
