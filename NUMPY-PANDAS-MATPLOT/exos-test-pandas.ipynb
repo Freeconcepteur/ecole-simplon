{
 "cells": [
  {
   "cell_type": "code",
   "execution_count": 8,
   "metadata": {},
   "outputs": [
    {
     "name": "stdout",
     "output_type": "stream",
     "text": [
      "  dep  sexe        jour  hosp  rea  HospConv  SSR_USLD  autres  rad  dc\n",
      "0  01     0  2020-03-18     2    0       NaN       NaN     NaN    1   0\n",
      "1  01     1  2020-03-18     1    0       NaN       NaN     NaN    1   0\n",
      "2  01     2  2020-03-18     1    0       NaN       NaN     NaN    0   0\n",
      "3  02     0  2020-03-18    41   10       NaN       NaN     NaN   18  11\n",
      "4  02     1  2020-03-18    19    4       NaN       NaN     NaN   11   6\n",
      "  Colonne          Type                                      Description_FR  \\\n",
      "0     dep        integer                                       DÃ©partement   \n",
      "1    sexe        integer                                              Sexe    \n",
      "2    jour  string($date)                              Date de notification    \n",
      "3    hosp        integer     Nombre de personnes actuellement hospitalisées   \n",
      "4     rea        integer  Nombre de personnes actuellement en services d...   \n",
      "\n",
      "                                      Description_EN     Exemple  \n",
      "0                                         Department           1  \n",
      "1                                               Sex            0  \n",
      "2                                     Date of notice  18/03/2020  \n",
      "3            Number of people currently hospitalized           2  \n",
      "4  Number of people currently in resuscitation or...           0  \n"
     ]
    }
   ],
   "source": [
    "import pandas as pd\n",
    "import numpy as np\n",
    "import seaborn as sns\n",
    "import matplotlib.pyplot as plt\n",
    "\n",
    "metadata = pd.read_csv('/Users/cedriclag/Desktop/exercices_simplon/csv/metadata_covid_sexe.csv', encoding='latin-1', sep=';')\n",
    "reduced = pd.read_csv('/Users/cedriclag/Desktop/exercices_simplon/csv/reduced_covid_sexe.csv')\n",
    "\n",
    "data_brutes = pd.read_csv('/Users/cedriclag/Desktop/exercices_simplon/csv/covid-hospit-2023-03-31-18h01.csv', encoding='latin-1', sep=';')\n",
    "metadata_brutes =  pd.read_csv('/Users/cedriclag/Desktop/exercices_simplon/csv/metadonnees-donnees-hospitalieres-covid19-maj20210810.csv',encoding='latin-1', sep=';')\n",
    "print(data_brutes.head())\n",
    "print(metadata_brutes.head())\n",
    "\n",
    "\n",
    "\n"
   ]
  }
 ],
 "metadata": {
  "kernelspec": {
   "display_name": "Python 3",
   "language": "python",
   "name": "python3"
  },
  "language_info": {
   "codemirror_mode": {
    "name": "ipython",
    "version": 3
   },
   "file_extension": ".py",
   "mimetype": "text/x-python",
   "name": "python",
   "nbconvert_exporter": "python",
   "pygments_lexer": "ipython3",
   "version": "3.11.5"
  },
  "orig_nbformat": 4
 },
 "nbformat": 4,
 "nbformat_minor": 2
}
