{
 "cells": [
  {
   "cell_type": "markdown",
   "id": "185e1502-574f-4483-a8b0-8d0d603857c7",
   "metadata": {},
   "source": [
    "## Q1"
   ]
  },
  {
   "cell_type": "code",
   "execution_count": 3,
   "id": "4052f3fa-16a8-4340-8029-8d2b5ffe78cf",
   "metadata": {},
   "outputs": [
    {
     "name": "stdout",
     "output_type": "stream",
     "text": [
      "1\n",
      "2\n",
      "3\n",
      "4\n",
      "5\n",
      "6\n",
      "7\n",
      "8\n",
      "9\n",
      "10\n",
      "11\n",
      "12\n"
     ]
    }
   ],
   "source": [
    "nbr_entier = int(input('Entre un nombre entier :'))\n",
    "for nbr_affiche in range(1,nbr_entier+1):\n",
    "    print(nbr_affiche)"
   ]
  },
  {
   "cell_type": "markdown",
   "id": "1fc82699-d789-45f6-88a2-9d6897bf95df",
   "metadata": {},
   "source": [
    "## Q2"
   ]
  },
  {
   "cell_type": "code",
   "execution_count": 50,
   "id": "cacf97c4-3c02-40e0-94b5-50bc3cb6e902",
   "metadata": {},
   "outputs": [
    {
     "name": "stdout",
     "output_type": "stream",
     "text": [
      "La liste des entiers pair est :  [23, 4, 56, 8, 9, 7, 6, 55, 43]\n"
     ]
    }
   ],
   "source": [
    "def extract(l):\n",
    "    nv = []\n",
    "    for x in l:\n",
    "        if(x > 0):\n",
    "            nv.append(x)\n",
    "    return nv\n",
    "    \n",
    "l =[23,4,56,-7,8,9,0,-18,7,6,55,43,-2]\n",
    "print(\"La liste des entiers pair est : \",extract(l))\n",
    "\n"
   ]
  },
  {
   "cell_type": "markdown",
   "id": "f675a30d-2285-474d-be3e-73a5b1d66023",
   "metadata": {},
   "source": [
    "## Q3"
   ]
  },
  {
   "cell_type": "code",
   "execution_count": 29,
   "id": "c6c9205a-0055-4d5b-8609-1412cec154b0",
   "metadata": {},
   "outputs": [
    {
     "name": "stdout",
     "output_type": "stream",
     "text": [
      "['aioli', 'arbre', 'urinoir']\n"
     ]
    }
   ],
   "source": [
    "liste_brutes_mots = ['cerise','banane','aioli','arbre','robinet','urinoir']\n",
    "def extract(l):\n",
    "    match = ['a', 'e', 'i', 'o', 'u']\n",
    "    liste_triee = []\n",
    "    for elem in l:\n",
    "        first_letter = elem[0]\n",
    "        if first_letter in match :\n",
    "            liste_triee.append(elem)\n",
    "            \n",
    "    print(liste_triee)\n",
    "\n",
    "\n",
    "extract(liste_brutes_mots)"
   ]
  },
  {
   "cell_type": "markdown",
   "id": "b6f1b4df-1cd5-421a-b967-39655cfdc7ae",
   "metadata": {},
   "source": [
    "## Q4"
   ]
  },
  {
   "cell_type": "code",
   "execution_count": 1,
   "id": "88bfaeb5-f601-48f6-ab2a-52c52e75eb70",
   "metadata": {},
   "outputs": [
    {
     "name": "stdout",
     "output_type": "stream",
     "text": [
      "Entre un nombre entier : 12\n"
     ]
    },
    {
     "name": "stdout",
     "output_type": "stream",
     "text": [
      "nombre pair\n"
     ]
    }
   ],
   "source": [
    "nbr_entier = int(input('Entre un nombre entier :'))\n",
    "def test_parite_nbr(x):\n",
    "    if x%2==0 and x>0:\n",
    "        print('nombre pair')\n",
    "    elif x%2>0 or x==1:\n",
    "        print('nombre impair')\n",
    "    else:\n",
    "        print('nombre nul')\n",
    "    \n",
    "\n",
    "test_parite_nbr(nbr_entier)\n",
    "        "
   ]
  },
  {
   "cell_type": "markdown",
   "id": "a88cec56-f077-4683-ae4e-2a1c3d580607",
   "metadata": {},
   "source": [
    "## Q5"
   ]
  },
  {
   "cell_type": "code",
   "execution_count": 71,
   "id": "da222a77-4b22-44c7-b8de-20efb09aa820",
   "metadata": {},
   "outputs": [
    {
     "name": "stdout",
     "output_type": "stream",
     "text": [
      "entre un mot oiseaux\n"
     ]
    },
    {
     "name": "stdout",
     "output_type": "stream",
     "text": [
      "oiseaux\n"
     ]
    }
   ],
   "source": [
    "mot = input('entre un mot')\n",
    "def compte_lettres(elem):\n",
    "    nbr_lettres = len(elem)\n",
    "    if nbr_lettres > 5:\n",
    "        print(elem)\n",
    "\n",
    "compte_lettres(mot)"
   ]
  },
  {
   "cell_type": "markdown",
   "id": "85c1cad0-467e-4fbf-b09f-8ec9ca50d5a3",
   "metadata": {},
   "source": [
    "## Q6"
   ]
  },
  {
   "cell_type": "code",
   "execution_count": 81,
   "id": "c34fe2e8-d1e8-4c01-b9fd-22135d745589",
   "metadata": {},
   "outputs": [
    {
     "name": "stdout",
     "output_type": "stream",
     "text": [
      "Vous devez saisir 5 nombres ;-)\n"
     ]
    },
    {
     "name": "stdout",
     "output_type": "stream",
     "text": [
      "entre le nombre 1 23\n",
      "entre le nombre 2 45\n",
      "entre le nombre 3 667\n",
      "entre le nombre 4 42\n",
      "entre le nombre 5 90\n"
     ]
    },
    {
     "name": "stdout",
     "output_type": "stream",
     "text": [
      "[23, 45, 667, 42, 90]\n"
     ]
    }
   ],
   "source": [
    "print('Vous devez saisir 5 nombres ;-)')\n",
    "def affiche_nombres():\n",
    "    i=1\n",
    "    liste_nombre = []\n",
    "    while i < 6:\n",
    "        insert_nombre = int(input('entre le nombre ' + str(i)))\n",
    "        liste_nombre.append(insert_nombre)\n",
    "        i+=1\n",
    "\n",
    "    print(liste_nombre)\n",
    "    \n",
    "affiche_nombres()\n",
    "\n",
    "        "
   ]
  },
  {
   "cell_type": "markdown",
   "id": "ea4a189a-cb62-46ed-802c-68a9ac659bd2",
   "metadata": {},
   "source": [
    "## Q7"
   ]
  },
  {
   "cell_type": "code",
   "execution_count": 89,
   "id": "dc82e261-1caf-40b4-b419-4924eeca61cc",
   "metadata": {},
   "outputs": [
    {
     "name": "stdout",
     "output_type": "stream",
     "text": [
      "entre des nombres séparés par des virgules : 12,34,55\n"
     ]
    },
    {
     "name": "stdout",
     "output_type": "stream",
     "text": [
      "101\n"
     ]
    }
   ],
   "source": [
    "tableau_nombre = input('entre des nombres séparés par des virgules :')\n",
    "\n",
    "def addition_tableau(elem):\n",
    "    result_add = 0\n",
    "    liste_elem = elem.split(',')\n",
    "    for nbr in liste_elem:\n",
    "        result_add = result_add + int(nbr)\n",
    "    \n",
    "    print(result_add)\n",
    "\n",
    "addition_tableau(tableau_nombre)"
   ]
  },
  {
   "cell_type": "markdown",
   "id": "3aea5ad4-1816-493d-82be-87ec789b2f17",
   "metadata": {},
   "source": [
    "## Q8"
   ]
  },
  {
   "cell_type": "code",
   "execution_count": 95,
   "id": "b18b733d-2c4b-4065-9482-ed3d60e9b764",
   "metadata": {},
   "outputs": [
    {
     "name": "stdout",
     "output_type": "stream",
     "text": [
      "entre une listes de mots séparés par des virgules : test,test1,test11\n"
     ]
    },
    {
     "name": "stdout",
     "output_type": "stream",
     "text": [
      "[4, 5, 6]\n"
     ]
    }
   ],
   "source": [
    "tableau_mots = input('entre une listes de mots séparés par des virgules :')\n",
    "\n",
    "def comptes_lettres_mots(elem):\n",
    "    nbr_lettres = []\n",
    "    liste_elem = elem.split(',')\n",
    "    for mot in liste_elem:\n",
    "        y = len(mot)\n",
    "        nbr_lettres.append(len(mot))\n",
    "        \n",
    "    print(nbr_lettres)\n",
    "\n",
    "comptes_lettres_mots(tableau_mots)"
   ]
  },
  {
   "cell_type": "markdown",
   "id": "dea2d08c-c08f-4817-a4e1-835c0b17e6f8",
   "metadata": {},
   "source": [
    "## Q9"
   ]
  },
  {
   "cell_type": "code",
   "execution_count": 99,
   "id": "0a6b557d-d474-479f-9f52-852532e32c04",
   "metadata": {},
   "outputs": [
    {
     "name": "stdout",
     "output_type": "stream",
     "text": [
      "écris une liste de nombres séparés par une virgule : 12,13,14,15\n"
     ]
    },
    {
     "name": "stdout",
     "output_type": "stream",
     "text": [
      "La liste des nombres pairs est :  [12, 14]\n"
     ]
    }
   ],
   "source": [
    "liste_nombres = input('écris une liste de nombres séparés par une virgule :')\n",
    "def extract(elem):\n",
    "    liste_elem = elem.split(',')\n",
    "    liste_int = []\n",
    "    liste_int_pairs = []\n",
    "    for nbr in liste_elem:\n",
    "        liste_int.append(int(nbr))\n",
    "        \n",
    "    for nbr in liste_int:\n",
    "        if(nbr%2==0):\n",
    "            liste_int_pairs.append(nbr)\n",
    "            \n",
    "    return liste_int_pairs\n",
    "    \n",
    "\n",
    "print(\"La liste des nombres pairs est : \",extract(liste_nombres))"
   ]
  },
  {
   "cell_type": "markdown",
   "id": "19c857c0-2902-4a2b-9ab9-5019f63f9ef2",
   "metadata": {},
   "source": [
    "## Q10"
   ]
  },
  {
   "cell_type": "code",
   "execution_count": 104,
   "id": "638caf5c-ea55-4919-afb1-a6356caf21aa",
   "metadata": {},
   "outputs": [
    {
     "name": "stdout",
     "output_type": "stream",
     "text": [
      "écris une liste de mots séparés par une virgule : aaa,yyy,rrr,zzz,ooo\n"
     ]
    },
    {
     "name": "stdout",
     "output_type": "stream",
     "text": [
      "['aaa', 'ooo', 'rrr', 'yyy', 'zzz']\n"
     ]
    }
   ],
   "source": [
    "liste_mots = input('écris une liste de mots séparés par une virgule :')\n",
    "def order_alpha(elem):\n",
    "    liste_elem = elem.split(',')\n",
    "    liste_elem.sort()\n",
    "    print(liste_elem)\n",
    "\n",
    "order_alpha(liste_mots)\n"
   ]
  },
  {
   "cell_type": "markdown",
   "id": "694ad237-77a9-4692-967b-64c1b92791d2",
   "metadata": {},
   "source": [
    "## Q11"
   ]
  },
  {
   "cell_type": "code",
   "execution_count": 105,
   "id": "c6136698-5f2f-4139-b161-766c02f68a1a",
   "metadata": {},
   "outputs": [
    {
     "name": "stdout",
     "output_type": "stream",
     "text": [
      "écris une phrase : yoyo yoyo\n"
     ]
    },
    {
     "name": "stdout",
     "output_type": "stream",
     "text": [
      "9\n"
     ]
    }
   ],
   "source": [
    "phrase = input('écris une phrase :')\n",
    "print(len(phrase))"
   ]
  },
  {
   "cell_type": "markdown",
   "id": "03b2f8aa-ee96-4069-817c-08a0079d0d75",
   "metadata": {},
   "source": [
    "## Q12"
   ]
  },
  {
   "cell_type": "code",
   "execution_count": 116,
   "id": "d5025ff6-35a2-443f-83d2-ea44e62b7b7d",
   "metadata": {},
   "outputs": [
    {
     "name": "stdout",
     "output_type": "stream",
     "text": [
      "écris un truc : azerty\n"
     ]
    },
    {
     "name": "stdout",
     "output_type": "stream",
     "text": [
      "ytreza\n"
     ]
    }
   ],
   "source": [
    "chaine = input('écris un truc :')\n",
    "def invert(elem):\n",
    "    elem_char=list(elem)\n",
    "    elem_char.reverse()\n",
    "    reponse = ''\n",
    "    for lettre in elem_char:\n",
    "        reponse = reponse+lettre\n",
    "    \n",
    "    print(reponse)\n",
    "\n",
    "invert(chaine)\n",
    "        "
   ]
  },
  {
   "cell_type": "markdown",
   "id": "149a3850-d888-4acc-ac5f-0558eb5d2ee3",
   "metadata": {},
   "source": [
    "## Q13"
   ]
  },
  {
   "cell_type": "code",
   "execution_count": 119,
   "id": "52711ad0-d468-40d3-bb3b-4ac4e5ffc2ca",
   "metadata": {},
   "outputs": [
    {
     "name": "stdout",
     "output_type": "stream",
     "text": [
      "écris une phrase et je compte le nombre de mots : aa zz ee\n"
     ]
    },
    {
     "name": "stdout",
     "output_type": "stream",
     "text": [
      "3\n"
     ]
    }
   ],
   "source": [
    "phrase = input('écris une phrase et je compte le nombre de mots :')\n",
    "def compte_mots(elem):\n",
    "    elem_liste_mots = elem.split(' ')\n",
    "    print(len(elem_liste_mots))\n",
    "\n",
    "compte_mots(phrase)"
   ]
  },
  {
   "cell_type": "markdown",
   "id": "5c645e45-ebdb-49cc-941e-bd7ff2fb37f3",
   "metadata": {},
   "source": [
    "## Q14"
   ]
  },
  {
   "cell_type": "code",
   "execution_count": 123,
   "id": "c9411b85-1d54-4c49-ae15-85ba2d8d2c8c",
   "metadata": {},
   "outputs": [
    {
     "name": "stdout",
     "output_type": "stream",
     "text": [
      "écris une phrase : aa zz ee\n"
     ]
    },
    {
     "name": "stdout",
     "output_type": "stream",
     "text": [
      "AA ZZ EE\n"
     ]
    }
   ],
   "source": [
    "phrase = input('écris une phrase :')\n",
    "print(phrase.upper())\n",
    "\n",
    "    \n",
    "    "
   ]
  },
  {
   "cell_type": "markdown",
   "id": "f34c9c62-26ee-42ec-b093-fa41d393fbf1",
   "metadata": {},
   "source": [
    "## Q15"
   ]
  },
  {
   "cell_type": "code",
   "execution_count": 130,
   "id": "032f6f30-25b0-47f7-ae22-84edc9355103",
   "metadata": {},
   "outputs": [
    {
     "name": "stdout",
     "output_type": "stream",
     "text": [
      "['e', 'l', 'u', 'l', 'e']\n",
      "['e', 'l', 'u', 'l', 'e']\n",
      "ok\n"
     ]
    }
   ],
   "source": [
    "palindrome = \"elule\"\n",
    "palindrome_1 = list(palindrome)\n",
    "print(palindrome_1)\n",
    "palindrome_2 = list(palindrome)\n",
    "palindrome_2.reverse()\n",
    "print(palindrome_2)\n",
    "\n",
    "if palindrome_1 == palindrome_2:\n",
    "    print('ok')\n",
    "else: print('nok')\n",
    "    \n"
   ]
  },
  {
   "cell_type": "markdown",
   "id": "8eb03aa8-1084-4a61-a629-66a1e8572937",
   "metadata": {},
   "source": [
    "## Q16"
   ]
  },
  {
   "cell_type": "code",
   "execution_count": 139,
   "id": "23d3aec2-233f-4917-ae4b-2c8ff1e5e864",
   "metadata": {},
   "outputs": [
    {
     "name": "stdout",
     "output_type": "stream",
     "text": [
      "trouve le nombre 23\n"
     ]
    },
    {
     "name": "stdout",
     "output_type": "stream",
     "text": [
      "trop petit\n"
     ]
    },
    {
     "name": "stdout",
     "output_type": "stream",
     "text": [
      "trouve le nombre 67\n"
     ]
    },
    {
     "name": "stdout",
     "output_type": "stream",
     "text": [
      "trop grand\n"
     ]
    },
    {
     "name": "stdout",
     "output_type": "stream",
     "text": [
      "trouve le nombre 42\n"
     ]
    },
    {
     "name": "stdout",
     "output_type": "stream",
     "text": [
      "bravo\n"
     ]
    }
   ],
   "source": [
    "nombre_user = int(input('trouve le nombre'))\n",
    "secret = 42\n",
    "def trouve_nbr(elem):\n",
    "    if elem > secret:\n",
    "        print('trop grand')\n",
    "        nombre_user = int(input('trouve le nombre'))\n",
    "        trouve_nbr(nombre_user)\n",
    "    elif elem < secret:\n",
    "        print('trop petit')\n",
    "        nombre_user = int(input('trouve le nombre'))\n",
    "        trouve_nbr(nombre_user)\n",
    "    else: \n",
    "        print('bravo')\n",
    "\n",
    "trouve_nbr(nombre_user)\n",
    "        "
   ]
  },
  {
   "cell_type": "markdown",
   "id": "41198da2-d623-4876-a591-f96d08a79411",
   "metadata": {},
   "source": [
    "## Q17"
   ]
  },
  {
   "cell_type": "code",
   "execution_count": 2,
   "id": "e4291613-5332-4eff-af63-6adec0ba79ce",
   "metadata": {},
   "outputs": [
    {
     "name": "stdout",
     "output_type": "stream",
     "text": [
      "1\n",
      "2\n",
      "3\n",
      "4\n",
      "5\n",
      "6\n",
      "7\n",
      "8\n",
      "9\n",
      "10\n"
     ]
    }
   ],
   "source": [
    "i = 1\n",
    "y = 10\n",
    "while i <= y:\n",
    "  print(i)\n",
    "  i += 1"
   ]
  },
  {
   "cell_type": "markdown",
   "id": "d0c4025f-0b29-438a-b4ce-8253cb7bd135",
   "metadata": {},
   "source": [
    "## Q18"
   ]
  },
  {
   "cell_type": "code",
   "execution_count": 9,
   "id": "62a5f9bb-3e1f-45b7-9d26-da93cb6ac632",
   "metadata": {},
   "outputs": [
    {
     "name": "stdout",
     "output_type": "stream",
     "text": [
      "[1, 4]\n"
     ]
    }
   ],
   "source": [
    "liste_nbr = [-1,1,4,-7]\n",
    "liste_length = len(liste_nbr)\n",
    "nv_liste = []\n",
    "i = 0\n",
    "while i < len(liste_nbr):\n",
    "    if liste_nbr[i] > 0:\n",
    "        nv_liste.append(liste_nbr[i])\n",
    "    i += 1\n",
    "\n",
    "print(nv_liste)\n"
   ]
  },
  {
   "cell_type": "markdown",
   "id": "d82b5c7c-51f4-4163-82a2-fa0a99398231",
   "metadata": {},
   "source": [
    "## Q19"
   ]
  },
  {
   "cell_type": "code",
   "execution_count": 16,
   "id": "57b294c7-53f7-4e62-8096-4f8059de1955",
   "metadata": {},
   "outputs": [
    {
     "name": "stdout",
     "output_type": "stream",
     "text": [
      "['aioli', 'arbre', 'urinoir']\n"
     ]
    }
   ],
   "source": [
    "liste_brutes_mots = ['cerise','banane','aioli','arbre','robinet','urinoir']\n",
    "match = ['a', 'e', 'i', 'o', 'u']\n",
    "i = 0\n",
    "nv_liste = []\n",
    "while i < len(liste_brutes_mots):\n",
    "    if liste_brutes_mots[i][0] in match :\n",
    "        nv_liste.append(liste_brutes_mots[i])\n",
    "    i += 1\n",
    "\n",
    "print(nv_liste)"
   ]
  },
  {
   "cell_type": "markdown",
   "id": "8bc38afb-3517-4c16-891c-dee2b6e6d245",
   "metadata": {},
   "source": [
    "## Q20"
   ]
  },
  {
   "cell_type": "code",
   "execution_count": 23,
   "id": "73cf4b33-044e-409c-b164-0f56bcc18355",
   "metadata": {},
   "outputs": [
    {
     "name": "stdout",
     "output_type": "stream",
     "text": [
      "entre un mot aaaaaa\n"
     ]
    },
    {
     "name": "stdout",
     "output_type": "stream",
     "text": [
      "aaaaaa\n"
     ]
    }
   ],
   "source": [
    "mot = input('entre un mot')\n",
    "i = 0\n",
    "while i < len(mot):\n",
    "    i += 1\n",
    "if i > 5:\n",
    "    print(mot)"
   ]
  },
  {
   "cell_type": "markdown",
   "id": "458754f4-0676-42f9-8f39-6f9f73f5ed39",
   "metadata": {},
   "source": [
    "## Q21"
   ]
  },
  {
   "cell_type": "code",
   "execution_count": 12,
   "id": "54eb2a54-6dd1-40c3-84df-7495b6d648a2",
   "metadata": {},
   "outputs": [
    {
     "name": "stdout",
     "output_type": "stream",
     "text": [
      "[0, 1, 1, 2, 3, 5, 8, 13, 21, 34]\n"
     ]
    }
   ],
   "source": [
    "nombre_final = 10\n",
    "i = 0\n",
    "fibonacci = []\n",
    "while i < nombre_final:\n",
    "    if i == 0 or i == 1:\n",
    "        fibonacci.append(i)\n",
    "    else:\n",
    "        n1 = fibonacci[i-1]\n",
    "        n2 = fibonacci[i-2]\n",
    "        fibonacci.append(n1 + n2)\n",
    "    i +=1\n",
    "\n",
    "print(fibonacci)    "
   ]
  },
  {
   "cell_type": "markdown",
   "id": "5ba658f6-367b-44db-9a48-6c626d6adc46",
   "metadata": {},
   "source": [
    "## Q22"
   ]
  },
  {
   "cell_type": "code",
   "execution_count": 16,
   "id": "372ca747-2a5e-476c-b3dc-b73b5b74e3c0",
   "metadata": {},
   "outputs": [
    {
     "name": "stdout",
     "output_type": "stream",
     "text": [
      "0.30000000000000004\n"
     ]
    }
   ],
   "source": [
    "addition = 0.1 + 0.2\n",
    "print(addition)"
   ]
  },
  {
   "cell_type": "code",
   "execution_count": 18,
   "id": "a7273090-3d2f-4983-adc0-06cce0f320de",
   "metadata": {},
   "outputs": [
    {
     "name": "stdout",
     "output_type": "stream",
     "text": [
      "0.3\n"
     ]
    }
   ],
   "source": [
    "from decimal import Decimal\n",
    "\n",
    "a = Decimal('0.1')\n",
    "b = Decimal('0.2')\n",
    "\n",
    "result = a + b\n",
    "\n",
    "print(result) "
   ]
  },
  {
   "cell_type": "code",
   "execution_count": null,
   "id": "1e9db7cd-e527-4fc8-b485-408e7a08dc32",
   "metadata": {},
   "outputs": [],
   "source": []
  }
 ],
 "metadata": {
  "kernelspec": {
   "display_name": "Python 3 (ipykernel)",
   "language": "python",
   "name": "python3"
  },
  "language_info": {
   "codemirror_mode": {
    "name": "ipython",
    "version": 3
   },
   "file_extension": ".py",
   "mimetype": "text/x-python",
   "name": "python",
   "nbconvert_exporter": "python",
   "pygments_lexer": "ipython3",
   "version": "3.11.5"
  }
 },
 "nbformat": 4,
 "nbformat_minor": 5
}
